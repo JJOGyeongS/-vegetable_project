{
 "cells": [
  {
   "cell_type": "code",
   "execution_count": 1,
   "id": "d2ecaf01",
   "metadata": {},
   "outputs": [
    {
     "name": "stdout",
     "output_type": "stream",
     "text": [
      "WARNING:tensorflow:From C:\\Users\\jsjs8\\anaconda3\\envs\\tf2\\lib\\site-packages\\tensorflow\\python\\compat\\v2_compat.py:101: disable_resource_variables (from tensorflow.python.ops.variable_scope) is deprecated and will be removed in a future version.\n",
      "Instructions for updating:\n",
      "non-resource variables are not supported in the long term\n",
      "평균 온도: 10\n",
      "최저 온도: -5\n",
      "최고 온도: 20\n",
      "강수량: 0.8\n",
      "INFO:tensorflow:Restoring parameters from ./saved.cpkt\n",
      "[5947.469]\n"
     ]
    }
   ],
   "source": [
    "import tensorflow.compat.v1 as tf\n",
    "tf.disable_v2_behavior()\n",
    "import numpy as np\n",
    "\n",
    "X = tf.placeholder(tf.float32, shape=[None, 4])\n",
    "Y = tf.placeholder(tf.float32, shape=[None, 1])\n",
    "\n",
    "W = tf.Variable(tf.random_normal([4, 1]), name=\"weight\")\n",
    "b = tf.Variable(tf.random_normal([1]), name=\"bias\")\n",
    "\n",
    "# 가설을 설정합니다.\n",
    "hypothesis = tf.matmul(X, W) + b\n",
    "\n",
    "# 저장된 모델을 불러오는 객체를 선언합니다.\n",
    "saver = tf.train.Saver()\n",
    "model = tf.global_variables_initializer()\n",
    "\n",
    "# 4가지 변수를 입력 받습니다.\n",
    "avg_temp = float(input('평균 온도: '))\n",
    "min_temp = float(input('최저 온도: '))\n",
    "max_temp = float(input('최고 온도: '))\n",
    "rain_fall = float(input('강수량: '))\n",
    "\n",
    "with tf.Session() as sess:\n",
    "\n",
    "    sess.run(model)\n",
    "    \n",
    "    # 저장된 학습 모델을 파일로부터 불러옵니다.\n",
    "    save_path = \"./saved.cpkt\"\n",
    "    saver.restore(sess, save_path)\n",
    "\n",
    "    # 사용자의 입력 값을 이용해 배열을 만듭니다.\n",
    "    data = ((avg_temp, min_temp, max_temp, rain_fall), )\n",
    "    arr = np.array(data, dtype=np.float32)\n",
    "\n",
    "    # 예측을 수행한 뒤에 그 결과를 출력합니다.\n",
    "    x_data = arr[0:4]\n",
    "    dict = sess.run(hypothesis, feed_dict={X: x_data})\n",
    "    print(dict[0])"
   ]
  },
  {
   "cell_type": "code",
   "execution_count": null,
   "id": "3916c32d",
   "metadata": {},
   "outputs": [],
   "source": []
  }
 ],
 "metadata": {
  "interpreter": {
   "hash": "917ef113c7bf1764ae6f5bb55171cfcef0b4a07809f8b5f9aec9c8422f9583a6"
  },
  "kernelspec": {
   "display_name": "Python 3 (ipykernel)",
   "language": "python",
   "name": "python3"
  },
  "language_info": {
   "codemirror_mode": {
    "name": "ipython",
    "version": 3
   },
   "file_extension": ".py",
   "mimetype": "text/x-python",
   "name": "python",
   "nbconvert_exporter": "python",
   "pygments_lexer": "ipython3",
   "version": "3.7.13"
  }
 },
 "nbformat": 4,
 "nbformat_minor": 5
}
